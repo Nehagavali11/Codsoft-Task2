{
 "cells": [
  {
   "cell_type": "code",
   "execution_count": 2,
   "id": "797f6251",
   "metadata": {},
   "outputs": [
    {
     "name": "stdout",
     "output_type": "stream",
     "text": [
      "Simple Calculator\n",
      "Operations:\n",
      "1. Addition (+)\n",
      "2. Subtraction (-)\n",
      "3. Multiplication (*)\n",
      "4. Division (/)\n",
      "Enter operation number (1/2/3/4): 2\n",
      "Enter first number: 20\n",
      "Enter second number: 43\n",
      "Result: 20.0 - 43.0 = -23.0\n"
     ]
    }
   ],
   "source": [
    "def add(x, y):\n",
    "    return x + y\n",
    "\n",
    "def subtract(x, y):\n",
    "    return x - y\n",
    "\n",
    "def multiply(x, y):\n",
    "    return x * y\n",
    "\n",
    "def divide(x, y):\n",
    "    if y != 0:\n",
    "        return x / y\n",
    "    else:\n",
    "        return \"Cannot divide by zero\"\n",
    "\n",
    "def calculator():\n",
    "    print(\"Simple Calculator\")\n",
    "    print(\"Operations:\")\n",
    "    print(\"1. Addition (+)\")\n",
    "    print(\"2. Subtraction (-)\")\n",
    "    print(\"3. Multiplication (*)\")\n",
    "    print(\"4. Division (/)\")\n",
    "\n",
    "    choice = input(\"Enter operation number (1/2/3/4): \")\n",
    "\n",
    "    if choice not in ['1', '2', '3', '4']:\n",
    "        print(\"Invalid choice. Please enter a valid operation.\")\n",
    "        return\n",
    "\n",
    "    num1 = float(input(\"Enter first number: \"))\n",
    "    num2 = float(input(\"Enter second number: \"))\n",
    "\n",
    "    if choice == '1':\n",
    "        result = add(num1, num2)\n",
    "        print(f\"Result: {num1} + {num2} = {result}\")\n",
    "    elif choice == '2':\n",
    "        result = subtract(num1, num2)\n",
    "        print(f\"Result: {num1} - {num2} = {result}\")\n",
    "    elif choice == '3':\n",
    "        result = multiply(num1, num2)\n",
    "        print(f\"Result: {num1} * {num2} = {result}\")\n",
    "    elif choice == '4':\n",
    "        result = divide(num1, num2)\n",
    "        print(f\"Result: {num1} / {num2} = {result}\")\n",
    "\n",
    "if __name__ == \"__main__\":\n",
    "    calculator()\n"
   ]
  },
  {
   "cell_type": "code",
   "execution_count": null,
   "id": "2f3739ef",
   "metadata": {},
   "outputs": [],
   "source": []
  }
 ],
 "metadata": {
  "kernelspec": {
   "display_name": "Python 3 (ipykernel)",
   "language": "python",
   "name": "python3"
  },
  "language_info": {
   "codemirror_mode": {
    "name": "ipython",
    "version": 3
   },
   "file_extension": ".py",
   "mimetype": "text/x-python",
   "name": "python",
   "nbconvert_exporter": "python",
   "pygments_lexer": "ipython3",
   "version": "3.11.5"
  }
 },
 "nbformat": 4,
 "nbformat_minor": 5
}
